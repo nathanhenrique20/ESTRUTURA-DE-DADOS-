{
 "cells": [
  {
   "cell_type": "code",
   "execution_count": 1,
   "metadata": {},
   "outputs": [],
   "source": [
    "def mdc(a, b):\n",
    "    if b == 0:\n",
    "        return a\n",
    "    else:\n",
    "        return mdc(b, a % b)\n",
    "\n",
    "# Solicita os dois números inteiros ao usuário\n",
    "num1 = int(input(\"Digite o primeiro número inteiro: \"))\n",
    "num2 = int(input(\"Digite o segundo número inteiro: \"))\n",
    "\n",
    "# Calcula o MDC usando a função recursiva\n",
    "resultado = mdc(num1, num2)\n",
    "\n",
    "# Exibe o resultado\n",
    "print(f\"O MDC de {num1} e {num2} é {resultado}\")\n"
   ]
  }
 ],
 "metadata": {
  "kernelspec": {
   "display_name": "Python 3",
   "language": "python",
   "name": "python3"
  },
  "language_info": {
   "codemirror_mode": {
    "name": "ipython",
    "version": 3
   },
   "file_extension": ".py",
   "mimetype": "text/x-python",
   "name": "python",
   "nbconvert_exporter": "python",
   "pygments_lexer": "ipython3",
   "version": "3.11.3"
  }
 },
 "nbformat": 4,
 "nbformat_minor": 2
}
