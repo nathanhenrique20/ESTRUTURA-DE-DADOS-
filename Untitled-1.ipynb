{
 "cells": [
  {
   "cell_type": "code",
   "execution_count": null,
   "metadata": {},
   "outputs": [],
   "source": [
    "nome = input(\"digite o nome: \")\n",
    "print(\"o nome digitado foi: \", nome)\n",
    "idade = int(input(\"digite a idade: \"))\n",
    "print(\"a idade digitada foi: \", idade)\n",
    "if idade >= 60:\n",
    "    print(\"a pessoa e idosa\")\n",
    "else idade <= 18:\n",
    "    print(\"maior de idade\")"
   ]
  },
  {
   "cell_type": "code",
   "execution_count": null,
   "metadata": {},
   "outputs": [],
   "source": [
    "PEDIR \n",
    "\n",
    "Cópia do Contrato Social \n",
    "\n",
    "Pró-Labore\n",
    "\n",
    "Uma folha de negativa pra mim e pro pai\n",
    "\n",
    "pegar a ultima folha de pagamneto do pai e da mae \n",
    "\n",
    "escritura da casa ou contrato de compra e venda."
   ]
  }
 ],
 "metadata": {
  "kernelspec": {
   "display_name": "Python 3",
   "language": "python",
   "name": "python3"
  },
  "language_info": {
   "codemirror_mode": {
    "name": "ipython",
    "version": 3
   },
   "file_extension": ".py",
   "mimetype": "text/x-python",
   "name": "python",
   "nbconvert_exporter": "python",
   "pygments_lexer": "ipython3",
   "version": "3.11.3"
  },
  "orig_nbformat": 4
 },
 "nbformat": 4,
 "nbformat_minor": 2
}
